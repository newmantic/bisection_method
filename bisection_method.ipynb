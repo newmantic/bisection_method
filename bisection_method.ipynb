{
  "nbformat": 4,
  "nbformat_minor": 0,
  "metadata": {
    "colab": {
      "provenance": [],
      "authorship_tag": "ABX9TyMICyBIKnCykykXzF17FGMU",
      "include_colab_link": true
    },
    "kernelspec": {
      "name": "python3",
      "display_name": "Python 3"
    },
    "language_info": {
      "name": "python"
    }
  },
  "cells": [
    {
      "cell_type": "markdown",
      "metadata": {
        "id": "view-in-github",
        "colab_type": "text"
      },
      "source": [
        "<a href=\"https://colab.research.google.com/github/newmantic/bisection_method/blob/main/bisection_method.ipynb\" target=\"_parent\"><img src=\"https://colab.research.google.com/assets/colab-badge.svg\" alt=\"Open In Colab\"/></a>"
      ]
    },
    {
      "cell_type": "code",
      "execution_count": 1,
      "metadata": {
        "id": "czafaJiX72yU"
      },
      "outputs": [],
      "source": [
        "def bisection_method(f, a, b, tol=1e-8, max_iter=100):\n",
        "    \"\"\"\n",
        "    Solve for the root of the function f(x) = 0 using the Bisection Method.\n",
        "\n",
        "    :param f: The function for which we want to find the root.\n",
        "    :param a: The left endpoint of the interval.\n",
        "    :param b: The right endpoint of the interval.\n",
        "    :param tol: The tolerance for the solution (default is 1e-8).\n",
        "    :param max_iter: The maximum number of iterations (default is 100).\n",
        "    :return: The root of the function f(x) and the number of iterations.\n",
        "    \"\"\"\n",
        "    if f(a) * f(b) >= 0:\n",
        "        raise ValueError(\"The function must have opposite signs at the endpoints a and b.\")\n",
        "\n",
        "    iter_count = 0\n",
        "    while (b - a) / 2 > tol and iter_count < max_iter:\n",
        "        iter_count += 1\n",
        "        c = (a + b) / 2  # Midpoint\n",
        "\n",
        "        if f(c) == 0:  # We found the exact root\n",
        "            return c, iter_count\n",
        "        elif f(a) * f(c) < 0:\n",
        "            b = c  # Root lies in the left subinterval\n",
        "        else:\n",
        "            a = c  # Root lies in the right subinterval\n",
        "\n",
        "    return (a + b) / 2, iter_count\n"
      ]
    },
    {
      "cell_type": "code",
      "source": [
        "def test_case_1():\n",
        "    f = lambda x: x**2 - 4\n",
        "    a, b = 1, 3  # The interval [1, 3] should contain the root x = 2\n",
        "\n",
        "    root, iterations = bisection_method(f, a, b)\n",
        "    print(f\"Root: {root}, Iterations: {iterations}\")\n",
        "    # Expected: Root should be close to 2\n",
        "\n",
        "test_case_1()"
      ],
      "metadata": {
        "colab": {
          "base_uri": "https://localhost:8080/"
        },
        "id": "zN9luofS8Ym8",
        "outputId": "c1bb0a2e-44bd-44ba-991f-aaeea290140d"
      },
      "execution_count": 2,
      "outputs": [
        {
          "output_type": "stream",
          "name": "stdout",
          "text": [
            "Root: 2.0, Iterations: 1\n"
          ]
        }
      ]
    },
    {
      "cell_type": "code",
      "source": [
        "def test_case_2():\n",
        "    import math\n",
        "    f = lambda x: math.cos(x) - x\n",
        "    a, b = 0, math.pi / 2  # The interval [0, pi/2] should contain the root\n",
        "\n",
        "    root, iterations = bisection_method(f, a, b)\n",
        "    print(f\"Root: {root}, Iterations: {iterations}\")\n",
        "    # Expected: Root should be close to 0.739085 (the solution to cos(x) = x)\n",
        "\n",
        "test_case_2()"
      ],
      "metadata": {
        "colab": {
          "base_uri": "https://localhost:8080/"
        },
        "id": "sLHNHcIM8b6k",
        "outputId": "5939efeb-d72f-48a1-ddba-871665542128"
      },
      "execution_count": 3,
      "outputs": [
        {
          "output_type": "stream",
          "name": "stdout",
          "text": [
            "Root: 0.7390851321023699, Iterations: 27\n"
          ]
        }
      ]
    },
    {
      "cell_type": "code",
      "source": [
        "def test_case_3():\n",
        "    import math\n",
        "    f = lambda x: math.exp(x) - 3 * x**2\n",
        "    a, b = 0, 1  # The interval [0, 1] should contain a root\n",
        "\n",
        "    root, iterations = bisection_method(f, a, b)\n",
        "    print(f\"Root: {root}, Iterations: {iterations}\")\n",
        "    # Expected: Root should be close to the actual root of the equation in this interval\n",
        "\n",
        "test_case_3()"
      ],
      "metadata": {
        "colab": {
          "base_uri": "https://localhost:8080/"
        },
        "id": "cfK7Asii8eKM",
        "outputId": "ae664a40-9148-4831-9a14-72b069b23467"
      },
      "execution_count": 4,
      "outputs": [
        {
          "output_type": "stream",
          "name": "stdout",
          "text": [
            "Root: 0.9100075736641884, Iterations: 26\n"
          ]
        }
      ]
    },
    {
      "cell_type": "code",
      "source": [
        "def test_case_4():\n",
        "    f = lambda x: x**2 + 1  # This function has no real roots\n",
        "    a, b = -1, 1\n",
        "\n",
        "    try:\n",
        "        root, iterations = bisection_method(f, a, b)\n",
        "        print(f\"Root: {root}, Iterations: {iterations}\")\n",
        "    except ValueError as e:\n",
        "        print(f\"Error: {e}\")\n",
        "    # Expected: An error message indicating the function does not change signs\n",
        "\n",
        "test_case_4()"
      ],
      "metadata": {
        "colab": {
          "base_uri": "https://localhost:8080/"
        },
        "id": "zHnaZC3u8gjr",
        "outputId": "aa2d8473-0899-4cb8-b595-1447706e1146"
      },
      "execution_count": 5,
      "outputs": [
        {
          "output_type": "stream",
          "name": "stdout",
          "text": [
            "Error: The function must have opposite signs at the endpoints a and b.\n"
          ]
        }
      ]
    }
  ]
}